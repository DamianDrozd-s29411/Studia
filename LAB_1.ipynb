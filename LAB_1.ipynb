{
 "cells": [
  {
   "cell_type": "markdown",
   "metadata": {
    "id": "9VHfLm5Mj13C"
   },
   "source": [
    "## Ćwiczenie 1"
   ]
  },
  {
   "cell_type": "markdown",
   "metadata": {
    "id": "wteM47kUj13C"
   },
   "source": [
    "Napisz funkcję o nazwie check_range, która sprawdza, czy liczba znajduje się w podanym zakresie (zawiera zarówno niski *__i__* wysoki). <br>\n",
    "Jeśli tak, zwróć „x jest między y a z”. <br>\n",
    "Jeśli tak nie jest, zwróć „x NIE jest między y a z”. <br>\n",
    "Gdzie:\n",
    "- x to liczba\n",
    "- y jest dolną granicą\n",
    "- z to górna granica"
   ]
  },
  {
   "cell_type": "code",
   "execution_count": 9,
   "metadata": {
    "id": "hOJKQcf_j13D"
   },
   "outputs": [],
   "source": [
    "def check_range(x,y,z):\n",
    "  if z>x>y:\n",
    "    print(f\"{x} jest między {y} a {z}\")\n",
    "  else:\n",
    "    print(f\"{x} nie jest między {y} a {z}\")\n",
    "  return"
   ]
  },
  {
   "cell_type": "code",
   "execution_count": 10,
   "metadata": {
    "colab": {
     "base_uri": "https://localhost:8080/"
    },
    "id": "wUPrDze0j13D",
    "outputId": "c40f2104-4c6c-42f9-c522-2ebb07d2ed0e"
   },
   "outputs": [
    {
     "name": "stdout",
     "output_type": "stream",
     "text": [
      "34 jest między 9 a 228\n"
     ]
    }
   ],
   "source": [
    "check_range(34, 9, 228)"
   ]
  },
  {
   "cell_type": "code",
   "execution_count": 11,
   "metadata": {
    "colab": {
     "base_uri": "https://localhost:8080/"
    },
    "id": "GOmuyTo-j13D",
    "outputId": "39f6845b-a1bb-45c8-f3ce-a343705565cb"
   },
   "outputs": [
    {
     "name": "stdout",
     "output_type": "stream",
     "text": [
      "7 nie jest między 2 a 5\n"
     ]
    }
   ],
   "source": [
    "check_range(7, 2, 5)"
   ]
  },
  {
   "cell_type": "markdown",
   "metadata": {
    "id": "e1bnJES6j13D"
   },
   "source": [
    "Napisz funkcję o nazwie bool_range, która robi to samo, ale zwraca tylko wartość logiczną."
   ]
  },
  {
   "cell_type": "code",
   "execution_count": 14,
   "metadata": {
    "id": "z-UP7tHFj13D"
   },
   "outputs": [],
   "source": [
    "def bool_range(x,y,z):\n",
    "  if z>x>y:\n",
    "    return print(True)\n",
    "  else:\n",
    "    return print(False)"
   ]
  },
  {
   "cell_type": "code",
   "execution_count": 15,
   "metadata": {
    "colab": {
     "base_uri": "https://localhost:8080/"
    },
    "id": "9rUdCfPZj13E",
    "outputId": "9ae46a8c-0c19-4f80-fbdd-5ab6dd37f2a0"
   },
   "outputs": [
    {
     "name": "stdout",
     "output_type": "stream",
     "text": [
      "True\n"
     ]
    }
   ],
   "source": [
    "bool_range(7, 5, 20)"
   ]
  },
  {
   "cell_type": "code",
   "execution_count": 16,
   "metadata": {
    "colab": {
     "base_uri": "https://localhost:8080/"
    },
    "id": "AFrlliYrj13E",
    "outputId": "5a4366e5-d32d-481b-ab3d-811c0fe3e3b4"
   },
   "outputs": [
    {
     "name": "stdout",
     "output_type": "stream",
     "text": [
      "False\n"
     ]
    }
   ],
   "source": [
    "bool_range(67, 22, 25)"
   ]
  },
  {
   "cell_type": "markdown",
   "metadata": {
    "id": "_NGaSfKzj13E"
   },
   "source": [
    "## Ćwiczenie 2"
   ]
  },
  {
   "cell_type": "markdown",
   "metadata": {
    "id": "TVEW3gUVj13E"
   },
   "source": [
    "Napisz funkcję o nazwie unique_list, która pobiera listę i zwraca listę zawierającą tylko unikalne elementy danych wejściowych."
   ]
  },
  {
   "cell_type": "code",
   "execution_count": 13,
   "metadata": {
    "id": "yoVJ3QKgj13E"
   },
   "outputs": [],
   "source": [
    "def unique_list(my_list):\n",
    "  my_list=set(my_list)\n",
    "  return list(my_list)\n",
    "  "
   ]
  },
  {
   "cell_type": "code",
   "execution_count": 14,
   "metadata": {
    "colab": {
     "base_uri": "https://localhost:8080/"
    },
    "id": "MygO-xftj13E",
    "outputId": "48c31e19-360c-4a5b-89da-c32ce2d3ba6e"
   },
   "outputs": [
    {
     "data": {
      "text/plain": [
       "[1, 2, 3, 4, 5, 6, 12, 63]"
      ]
     },
     "execution_count": 14,
     "metadata": {},
     "output_type": "execute_result"
    }
   ],
   "source": [
    "my_list = [1,3,5,6,4,3,2,3,3,4,3,4,5,6,6,4,3,2,12,3,5,63,4,5,3,3,2]\n",
    "\n",
    "unique_list(my_list)\n"
   ]
  },
  {
   "cell_type": "markdown",
   "metadata": {
    "id": "60U_tf76j13F"
   },
   "source": [
    "Znajdź inny sposób wykonania tej samej operacji bez definiowania funkcji."
   ]
  },
  {
   "cell_type": "code",
   "execution_count": 15,
   "metadata": {
    "colab": {
     "base_uri": "https://localhost:8080/"
    },
    "id": "gwFjMWHbj13F",
    "outputId": "a6ebfa71-eaa7-4757-ca9c-ad5f0bd64a10"
   },
   "outputs": [
    {
     "name": "stdout",
     "output_type": "stream",
     "text": [
      "[1, 3, 5, 6, 4, 2, 12, 63]\n"
     ]
    }
   ],
   "source": [
    "unique_list = [x for i, x in enumerate(my_list) if i == my_list.index(x)]\n",
    "\n",
    "print(unique_list)"
   ]
  },
  {
   "cell_type": "markdown",
   "metadata": {
    "id": "wwPBmLHJj13F"
   },
   "source": [
    "## Ćwiczenie 3"
   ]
  },
  {
   "cell_type": "markdown",
   "metadata": {
    "id": "R-Kc2MQKj13F"
   },
   "source": [
    "Napisz funkcję o nazwie objętość_kuli, która przyjmuje promień kuli i zwraca jej objętość zaokrągloną do 2 dp. (Google wzór na objętość kuli, użyj pi = 3,14)"
   ]
  },
  {
   "cell_type": "code",
   "execution_count": 29,
   "metadata": {
    "id": "ITJqdTjBj13F"
   },
   "outputs": [],
   "source": [
    "def volume_of_sphere(r):\n",
    "  pi=3.14\n",
    "  x=(4/3)*pi*(r**3)\n",
    "  return round(x,2)"
   ]
  },
  {
   "cell_type": "code",
   "execution_count": 30,
   "metadata": {
    "colab": {
     "base_uri": "https://localhost:8080/"
    },
    "id": "iMgWEE7Jj13F",
    "outputId": "07a5db0e-f746-42b5-c069-e601d6672f1f"
   },
   "outputs": [
    {
     "data": {
      "text/plain": [
       "33.49"
      ]
     },
     "execution_count": 30,
     "metadata": {},
     "output_type": "execute_result"
    }
   ],
   "source": [
    "volume_of_sphere(2)"
   ]
  },
  {
   "cell_type": "markdown",
   "metadata": {
    "id": "-8ftUiIlj13F"
   },
   "source": [
    "## Rekursja"
   ]
  },
  {
   "cell_type": "markdown",
   "metadata": {
    "id": "iSl3kLGAj13G"
   },
   "source": [
    "- Funkcja rekurencyjna to funkcja, która wywołuje siebie w ramach swojej definicji.\n",
    "- Na początku może to być trudne do zrozumienia, ale pomyśl o tym jako o przełamaniu dużego problemu w wielokrotne robienie małego problemu.\n",
    "- Oznacza to, że złożony problem można uprościć, powtarzając przy każdym powtórzeniu prostszą i prostszą formę tego samego problemu.\n",
    "- Musimy jednak podać „najprostszą formę” funkcji, w której funkcja się zatrzymuje, w przeciwnym razie będzie się powtarzać w nieskończoność i wygeneruje błąd.\n",
    "- Nazywamy tę „najprostszą formę” przypadkiem podstawowym.\n",
    "- Najlepiej ilustruje to przykład:"
   ]
  },
  {
   "cell_type": "code",
   "execution_count": null,
   "metadata": {
    "colab": {
     "base_uri": "https://localhost:8080/"
    },
    "id": "w__ZM3Waj13G",
    "outputId": "2cc3e38a-c284-4d52-e0b6-66f41240f603"
   },
   "outputs": [
    {
     "name": "stdout",
     "output_type": "stream",
     "text": [
      "5\n",
      "4\n",
      "3\n",
      "2\n",
      "1\n",
      "0\n"
     ]
    }
   ],
   "source": [
    "# Funkcja, która przyjmuje jako wejście liczbę początkową do odliczania\n",
    "def countdown(n):\n",
    "    \n",
    "    # przypadek podstawowy: w tym miejscu funkcja ostatecznie się zatrzyma\n",
    "    if n == 0:\n",
    "        print(0)\n",
    "        \n",
    "    # tutaj redukujemy problem do prostszej wersji\n",
    "    else:\n",
    "        \n",
    "        #wypisujemy numer odliczania\n",
    "        print(n)\n",
    "        \n",
    "        # powtarzamy funkcję z następną najmniejszą liczbą\n",
    "        countdown(n-1)\n",
    "   \n",
    "        \n",
    "\n",
    "countdown(5)"
   ]
  },
  {
   "cell_type": "code",
   "execution_count": null,
   "metadata": {
    "id": "Of3sdBnjj13G"
   },
   "outputs": [],
   "source": []
  },
  {
   "cell_type": "markdown",
   "metadata": {
    "id": "VsTIyoLgj13G"
   },
   "source": [
    "## Ćwiczenie 4"
   ]
  },
  {
   "cell_type": "markdown",
   "metadata": {
    "id": "AtJ9PLDZj13G"
   },
   "source": [
    "Zdefiniuj funkcję rekurencyjną o nazwie num_fact, która zwraca silnię podanej liczby."
   ]
  },
  {
   "cell_type": "code",
   "execution_count": 9,
   "metadata": {
    "id": "2_VLKlMkj13G"
   },
   "outputs": [],
   "source": [
    "def num_fact(num):\n",
    "    number=1\n",
    "    if num > 1:\n",
    "        return num*num_fact(num-1)\n",
    "    return number\n"
   ]
  },
  {
   "cell_type": "code",
   "execution_count": 10,
   "metadata": {
    "colab": {
     "base_uri": "https://localhost:8080/"
    },
    "id": "4JypL51xj13G",
    "outputId": "6d6a470d-7ff9-4a75-f833-6ee337624ecc"
   },
   "outputs": [
    {
     "data": {
      "text/plain": [
       "3628800"
      ]
     },
     "execution_count": 10,
     "metadata": {},
     "output_type": "execute_result"
    }
   ],
   "source": [
    "num_fact(10)"
   ]
  },
  {
   "cell_type": "code",
   "execution_count": 11,
   "metadata": {
    "colab": {
     "base_uri": "https://localhost:8080/"
    },
    "id": "MdGmAqbjj13G",
    "outputId": "7c390cf9-31c8-44bf-bf77-aec8899ee438"
   },
   "outputs": [
    {
     "data": {
      "text/plain": [
       "3628800"
      ]
     },
     "execution_count": 11,
     "metadata": {},
     "output_type": "execute_result"
    }
   ],
   "source": [
    "1*2*3*4*5*6*7*8*9*10"
   ]
  },
  {
   "cell_type": "code",
   "execution_count": null,
   "metadata": {},
   "outputs": [],
   "source": []
  }
 ],
 "metadata": {
  "colab": {
   "provenance": []
  },
  "kernelspec": {
   "display_name": "Python 3 (ipykernel)",
   "language": "python",
   "name": "python3"
  },
  "language_info": {
   "codemirror_mode": {
    "name": "ipython",
    "version": 3
   },
   "file_extension": ".py",
   "mimetype": "text/x-python",
   "name": "python",
   "nbconvert_exporter": "python",
   "pygments_lexer": "ipython3",
   "version": "3.9.13"
  }
 },
 "nbformat": 4,
 "nbformat_minor": 1
}

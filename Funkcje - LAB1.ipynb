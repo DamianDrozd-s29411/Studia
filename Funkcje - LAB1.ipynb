{
  "cells": [
    {
      "cell_type": "markdown",
      "metadata": {
        "id": "9VHfLm5Mj13C"
      },
      "source": [
        "## Ćwiczenie 1"
      ]
    },
    {
      "cell_type": "markdown",
      "metadata": {
        "id": "wteM47kUj13C"
      },
      "source": [
        "Napisz funkcję o nazwie check_range, która sprawdza, czy liczba znajduje się w podanym zakresie (zawiera zarówno niski *__i__* wysoki). <br>\n",
        "Jeśli tak, zwróć „x jest między y a z”. <br>\n",
        "Jeśli tak nie jest, zwróć „x NIE jest między y a z”. <br>\n",
        "Gdzie:\n",
        "- x to liczba\n",
        "- y jest dolną granicą\n",
        "- z to górna granica"
      ]
    },
    {
      "cell_type": "code",
      "execution_count": null,
      "metadata": {
        "id": "hOJKQcf_j13D"
      },
      "outputs": [],
      "source": [
        "def check_range(x,y,z):\n",
        "  if z>x>y:\n",
        "    print(f\"{x} jest między {y} a {z}\")\n",
        "  else:\n",
        "    print(f\"{x} nie jest między {y} a {z}\")\n",
        "  return"
      ]
    },
    {
      "cell_type": "code",
      "execution_count": null,
      "metadata": {
        "id": "wUPrDze0j13D",
        "colab": {
          "base_uri": "https://localhost:8080/"
        },
        "outputId": "59383476-4476-4fb6-9772-104d821aac86"
      },
      "outputs": [
        {
          "output_type": "stream",
          "name": "stdout",
          "text": [
            "34 jest między 9 a 228\n"
          ]
        }
      ],
      "source": [
        "check_range(34, 9, 228)"
      ]
    },
    {
      "cell_type": "code",
      "execution_count": null,
      "metadata": {
        "id": "GOmuyTo-j13D",
        "colab": {
          "base_uri": "https://localhost:8080/"
        },
        "outputId": "f6c1311a-6b4c-42be-dd92-50287a9dff18"
      },
      "outputs": [
        {
          "output_type": "stream",
          "name": "stdout",
          "text": [
            "7 nie jest między 2 a 5\n"
          ]
        }
      ],
      "source": [
        "check_range(7, 2, 5)"
      ]
    },
    {
      "cell_type": "markdown",
      "metadata": {
        "id": "e1bnJES6j13D"
      },
      "source": [
        "Napisz funkcję o nazwie bool_range, która robi to samo, ale zwraca tylko wartość logiczną."
      ]
    },
    {
      "cell_type": "code",
      "execution_count": null,
      "metadata": {
        "id": "z-UP7tHFj13D"
      },
      "outputs": [],
      "source": [
        "def bool_range(x,y,z):\n",
        "  if z>x>y:\n",
        "    return True\n",
        "  else:\n",
        "    return False"
      ]
    },
    {
      "cell_type": "code",
      "execution_count": null,
      "metadata": {
        "id": "9rUdCfPZj13E",
        "colab": {
          "base_uri": "https://localhost:8080/"
        },
        "outputId": "1a86426c-5006-4da3-eeda-93d157eb064c"
      },
      "outputs": [
        {
          "output_type": "execute_result",
          "data": {
            "text/plain": [
              "True"
            ]
          },
          "metadata": {},
          "execution_count": 6
        }
      ],
      "source": [
        "bool_range(7, 5, 20)"
      ]
    },
    {
      "cell_type": "code",
      "execution_count": null,
      "metadata": {
        "id": "AFrlliYrj13E",
        "colab": {
          "base_uri": "https://localhost:8080/"
        },
        "outputId": "108bee8b-8b01-43b3-bd94-19c8446af0ad"
      },
      "outputs": [
        {
          "output_type": "execute_result",
          "data": {
            "text/plain": [
              "False"
            ]
          },
          "metadata": {},
          "execution_count": 7
        }
      ],
      "source": [
        "bool_range(67, 22, 25)"
      ]
    },
    {
      "cell_type": "markdown",
      "metadata": {
        "id": "_NGaSfKzj13E"
      },
      "source": [
        "## Ćwiczenie 2"
      ]
    },
    {
      "cell_type": "markdown",
      "metadata": {
        "id": "TVEW3gUVj13E"
      },
      "source": [
        "Napisz funkcję o nazwie unique_list, która pobiera listę i zwraca listę zawierającą tylko unikalne elementy danych wejściowych."
      ]
    },
    {
      "cell_type": "code",
      "execution_count": 2,
      "metadata": {
        "id": "yoVJ3QKgj13E"
      },
      "outputs": [],
      "source": [
        "def unique_list(my_list):\n",
        "  my_list=set(my_list)\n",
        "  return list(my_list)\n",
        "  "
      ]
    },
    {
      "cell_type": "code",
      "execution_count": 3,
      "metadata": {
        "id": "MygO-xftj13E",
        "colab": {
          "base_uri": "https://localhost:8080/"
        },
        "outputId": "9e34e4e3-bdde-4885-b537-2d67d91a4ab5"
      },
      "outputs": [
        {
          "output_type": "execute_result",
          "data": {
            "text/plain": [
              "[1, 2, 3, 4, 5, 6, 12, 63]"
            ]
          },
          "metadata": {},
          "execution_count": 3
        }
      ],
      "source": [
        "my_list = [1,3,5,6,4,3,2,3,3,4,3,4,5,6,6,4,3,2,12,3,5,63,4,5,3,3,2]\n",
        "\n",
        "unique_list(my_list)\n"
      ]
    },
    {
      "cell_type": "markdown",
      "metadata": {
        "id": "60U_tf76j13F"
      },
      "source": [
        "Znajdź inny sposób wykonania tej samej operacji bez definiowania funkcji."
      ]
    },
    {
      "cell_type": "code",
      "execution_count": 4,
      "metadata": {
        "id": "gwFjMWHbj13F",
        "colab": {
          "base_uri": "https://localhost:8080/"
        },
        "outputId": "a2aeeecb-d70e-44f8-cb04-214e97fbacfc"
      },
      "outputs": [
        {
          "output_type": "stream",
          "name": "stdout",
          "text": [
            "[1, 3, 5, 6, 4, 2, 12, 63]\n"
          ]
        }
      ],
      "source": [
        "unique_list = [x for i, x in enumerate(my_list) if i == my_list.index(x)]\n",
        "\n",
        "print(unique_list)"
      ]
    },
    {
      "cell_type": "markdown",
      "metadata": {
        "id": "wwPBmLHJj13F"
      },
      "source": [
        "## Ćwiczenie 3"
      ]
    },
    {
      "cell_type": "markdown",
      "metadata": {
        "id": "R-Kc2MQKj13F"
      },
      "source": [
        "Napisz funkcję o nazwie objętość_kuli, która przyjmuje promień kuli i zwraca jej objętość zaokrągloną do 2 dp. (Google wzór na objętość kuli, użyj pi = 3,14)"
      ]
    },
    {
      "cell_type": "code",
      "execution_count": null,
      "metadata": {
        "id": "ITJqdTjBj13F"
      },
      "outputs": [],
      "source": [
        "def volume_of_sphere(r):\n",
        "  pi=3.14\n",
        "  x=(4/3)*pi*(r**3)\n",
        "  return round(x,2)"
      ]
    },
    {
      "cell_type": "code",
      "execution_count": null,
      "metadata": {
        "id": "iMgWEE7Jj13F",
        "colab": {
          "base_uri": "https://localhost:8080/"
        },
        "outputId": "ffc140ac-05dd-4ee3-c697-f77e418c95c3"
      },
      "outputs": [
        {
          "output_type": "execute_result",
          "data": {
            "text/plain": [
              "33.49"
            ]
          },
          "metadata": {},
          "execution_count": 14
        }
      ],
      "source": [
        "volume_of_sphere(2)"
      ]
    },
    {
      "cell_type": "markdown",
      "metadata": {
        "id": "-8ftUiIlj13F"
      },
      "source": [
        "## Rekursja"
      ]
    },
    {
      "cell_type": "markdown",
      "metadata": {
        "id": "iSl3kLGAj13G"
      },
      "source": [
        "- Funkcja rekurencyjna to funkcja, która wywołuje siebie w ramach swojej definicji.\n",
        "- Na początku może to być trudne do zrozumienia, ale pomyśl o tym jako o przełamaniu dużego problemu w wielokrotne robienie małego problemu.\n",
        "- Oznacza to, że złożony problem można uprościć, powtarzając przy każdym powtórzeniu prostszą i prostszą formę tego samego problemu.\n",
        "- Musimy jednak podać „najprostszą formę” funkcji, w której funkcja się zatrzymuje, w przeciwnym razie będzie się powtarzać w nieskończoność i wygeneruje błąd.\n",
        "- Nazywamy tę „najprostszą formę” przypadkiem podstawowym.\n",
        "- Najlepiej ilustruje to przykład:"
      ]
    },
    {
      "cell_type": "code",
      "execution_count": null,
      "metadata": {
        "id": "w__ZM3Waj13G",
        "colab": {
          "base_uri": "https://localhost:8080/"
        },
        "outputId": "ce9d6a2c-54f3-4c42-eb1e-25683985bd61"
      },
      "outputs": [
        {
          "output_type": "stream",
          "name": "stdout",
          "text": [
            "5\n",
            "4\n",
            "3\n",
            "2\n",
            "1\n",
            "0\n"
          ]
        }
      ],
      "source": [
        "# Funkcja, która przyjmuje jako wejście liczbę początkową do odliczania\n",
        "def countdown(n):\n",
        "    \n",
        "    # przypadek podstawowy: w tym miejscu funkcja ostatecznie się zatrzyma\n",
        "    if n == 0:\n",
        "        print(0)\n",
        "        \n",
        "    # tutaj redukujemy problem do prostszej wersji\n",
        "    else:\n",
        "        \n",
        "        #wypisujemy numer odliczania\n",
        "        print(n)\n",
        "        \n",
        "        # powtarzamy funkcję z następną najmniejszą liczbą\n",
        "        countdown(n-1)\n",
        "   \n",
        "        \n",
        "\n",
        "countdown(5)"
      ]
    },
    {
      "cell_type": "code",
      "execution_count": null,
      "metadata": {
        "id": "Of3sdBnjj13G",
        "colab": {
          "base_uri": "https://localhost:8080/"
        },
        "outputId": "8c809708-fc1b-47d6-c21d-c8ef1cfe4fa9"
      },
      "outputs": [
        {
          "output_type": "stream",
          "name": "stdout",
          "text": [
            "[1, 3, 5, 6, 4, 2, 12, 63]\n"
          ]
        }
      ],
      "source": []
    },
    {
      "cell_type": "markdown",
      "metadata": {
        "id": "VsTIyoLgj13G"
      },
      "source": [
        "## Ćwiczenie 4"
      ]
    },
    {
      "cell_type": "markdown",
      "metadata": {
        "id": "AtJ9PLDZj13G"
      },
      "source": [
        "Zdefiniuj funkcję rekurencyjną o nazwie num_fact, która zwraca silnię podanej liczby."
      ]
    },
    {
      "cell_type": "code",
      "execution_count": null,
      "metadata": {
        "id": "2_VLKlMkj13G"
      },
      "outputs": [],
      "source": [
        "def num_fact(number):\n",
        "  liczby = []\n",
        "  for i in range(number):\n",
        "    i*(i-1)\n",
        "      continue\n",
        "    elif  :\n",
        "      x=i\n",
        "      liczby.append(x)\n",
        "    else: \n",
        "      x= i*(i-1)\n",
        "      liczby.append(x)\n",
        "      print(x,i)\n",
        "  return \n"
      ]
    },
    {
      "cell_type": "code",
      "execution_count": null,
      "metadata": {
        "id": "4JypL51xj13G",
        "colab": {
          "base_uri": "https://localhost:8080/"
        },
        "outputId": "a750190d-0ac4-4e9b-b3c8-b82eb5740aa6"
      },
      "outputs": [
        {
          "output_type": "stream",
          "name": "stdout",
          "text": [
            "2 2\n",
            "6 3\n",
            "12 4\n",
            "20 5\n",
            "30 6\n",
            "42 7\n",
            "56 8\n",
            "72 9\n"
          ]
        },
        {
          "output_type": "execute_result",
          "data": {
            "text/plain": [
              "[1, 2, 6, 12, 20, 30, 42, 56, 72]"
            ]
          },
          "metadata": {},
          "execution_count": 38
        }
      ],
      "source": [
        "num_fact(10)"
      ]
    },
    {
      "cell_type": "code",
      "execution_count": null,
      "metadata": {
        "id": "MdGmAqbjj13G",
        "colab": {
          "base_uri": "https://localhost:8080/"
        },
        "outputId": "a483ec35-c13a-4db1-a640-e4458fe7f038"
      },
      "outputs": [
        {
          "output_type": "execute_result",
          "data": {
            "text/plain": [
              "3628800"
            ]
          },
          "metadata": {},
          "execution_count": 3
        }
      ],
      "source": [
        "1*2*3*4*5*6*7*8*9*10"
      ]
    },
    {
      "cell_type": "code",
      "execution_count": null,
      "metadata": {
        "id": "qhTiZkWcj13H",
        "colab": {
          "base_uri": "https://localhost:8080/",
          "height": 135
        },
        "outputId": "37c2c3b1-244f-434d-ccfc-caf01703ee6f"
      },
      "outputs": [
        {
          "output_type": "error",
          "ename": "TabError",
          "evalue": "ignored",
          "traceback": [
            "\u001b[0;36m  File \u001b[0;32m\"<ipython-input-49-a0bc6495e16b>\"\u001b[0;36m, line \u001b[0;32m18\u001b[0m\n\u001b[0;31m    fact = fact * i\u001b[0m\n\u001b[0m                   ^\u001b[0m\n\u001b[0;31mTabError\u001b[0m\u001b[0;31m:\u001b[0m inconsistent use of tabs and spaces in indentation\n"
          ]
        }
      ],
      "source": [
        "for i in range(10):\n",
        "  if i == 0:\n",
        "      continue\n",
        "  else:\n",
        "      x=i*(i-1)\n",
        "      print(x)\n",
        "\n",
        "\n",
        "# Python code to demonstrate naive method\n",
        "# to compute factorial\n",
        "n = 23\n",
        "fact = 1\n",
        "\n",
        "for i in range(10):\n",
        "  if i == 0:\n",
        "      continue\n",
        "  else:\n",
        "\tfact = fact * i\n",
        "\tprint(fact)\n",
        "print (\"The factorial of 23 is : \",end=\"\")\n",
        "print (fact)\n"
      ]
    }
  ],
  "metadata": {
    "kernelspec": {
      "display_name": "Python 3",
      "language": "python",
      "name": "python3"
    },
    "language_info": {
      "codemirror_mode": {
        "name": "ipython",
        "version": 3
      },
      "file_extension": ".py",
      "mimetype": "text/x-python",
      "name": "python",
      "nbconvert_exporter": "python",
      "pygments_lexer": "ipython3",
      "version": "3.7.6"
    },
    "colab": {
      "provenance": []
    }
  },
  "nbformat": 4,
  "nbformat_minor": 0
}